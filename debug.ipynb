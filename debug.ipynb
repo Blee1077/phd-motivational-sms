{
 "cells": [
  {
   "cell_type": "code",
   "execution_count": 1,
   "id": "9226bee8-0f7b-4cb7-ade8-82ced3648079",
   "metadata": {},
   "outputs": [
    {
     "name": "stdout",
     "output_type": "stream",
     "text": [
      "Requirement already satisfied: twilio in c:\\users\\brandon\\anaconda3\\lib\\site-packages (8.10.0)\n",
      "Collecting openai\n",
      "  Downloading openai-0.28.1-py3-none-any.whl (76 kB)\n",
      "Requirement already satisfied: requests>=2.0.0 in c:\\users\\brandon\\anaconda3\\lib\\site-packages (from twilio) (2.31.0)\n",
      "Requirement already satisfied: aiohttp-retry>=2.8.3 in c:\\users\\brandon\\anaconda3\\lib\\site-packages (from twilio) (2.8.3)\n",
      "Requirement already satisfied: PyJWT<3.0.0,>=2.0.0 in c:\\users\\brandon\\anaconda3\\lib\\site-packages (from twilio) (2.4.0)\n",
      "Requirement already satisfied: aiohttp>=3.8.4 in c:\\users\\brandon\\anaconda3\\lib\\site-packages (from twilio) (3.8.6)\n",
      "Requirement already satisfied: tqdm in c:\\users\\brandon\\anaconda3\\lib\\site-packages (from openai) (4.62.3)\n",
      "Requirement already satisfied: async-timeout<5.0,>=4.0.0a3 in c:\\users\\brandon\\anaconda3\\lib\\site-packages (from aiohttp>=3.8.4->twilio) (4.0.2)\n",
      "Requirement already satisfied: aiosignal>=1.1.2 in c:\\users\\brandon\\anaconda3\\lib\\site-packages (from aiohttp>=3.8.4->twilio) (1.2.0)\n",
      "Requirement already satisfied: yarl<2.0,>=1.0 in c:\\users\\brandon\\anaconda3\\lib\\site-packages (from aiohttp>=3.8.4->twilio) (1.7.2)\n",
      "Requirement already satisfied: frozenlist>=1.1.1 in c:\\users\\brandon\\anaconda3\\lib\\site-packages (from aiohttp>=3.8.4->twilio) (1.3.0)\n",
      "Requirement already satisfied: attrs>=17.3.0 in c:\\users\\brandon\\anaconda3\\lib\\site-packages (from aiohttp>=3.8.4->twilio) (21.2.0)\n",
      "Requirement already satisfied: multidict<7.0,>=4.5 in c:\\users\\brandon\\anaconda3\\lib\\site-packages (from aiohttp>=3.8.4->twilio) (6.0.2)\n",
      "Requirement already satisfied: charset-normalizer<4.0,>=2.0 in c:\\users\\brandon\\anaconda3\\lib\\site-packages (from aiohttp>=3.8.4->twilio) (2.0.4)\n",
      "Requirement already satisfied: certifi>=2017.4.17 in c:\\users\\brandon\\anaconda3\\lib\\site-packages (from requests>=2.0.0->twilio) (2023.7.22)\n",
      "Requirement already satisfied: idna<4,>=2.5 in c:\\users\\brandon\\anaconda3\\lib\\site-packages (from requests>=2.0.0->twilio) (3.2)\n",
      "Requirement already satisfied: urllib3<3,>=1.21.1 in c:\\users\\brandon\\anaconda3\\lib\\site-packages (from requests>=2.0.0->twilio) (1.26.7)\n",
      "Requirement already satisfied: colorama in c:\\users\\brandon\\anaconda3\\lib\\site-packages (from tqdm->openai) (0.4.4)\n",
      "Installing collected packages: openai\n",
      "Successfully installed openai-0.28.1\n",
      "Note: you may need to restart the kernel to use updated packages.\n"
     ]
    },
    {
     "name": "stderr",
     "output_type": "stream",
     "text": [
      "WARNING: Ignoring invalid distribution -tatsmodels (c:\\users\\brandon\\anaconda3\\lib\\site-packages)\n",
      "WARNING: Ignoring invalid distribution -tatsmodels (c:\\users\\brandon\\anaconda3\\lib\\site-packages)\n",
      "WARNING: Ignoring invalid distribution -tatsmodels (c:\\users\\brandon\\anaconda3\\lib\\site-packages)\n",
      "WARNING: Ignoring invalid distribution -tatsmodels (c:\\users\\brandon\\anaconda3\\lib\\site-packages)\n",
      "WARNING: Ignoring invalid distribution -tatsmodels (c:\\users\\brandon\\anaconda3\\lib\\site-packages)\n",
      "WARNING: Ignoring invalid distribution -tatsmodels (c:\\users\\brandon\\anaconda3\\lib\\site-packages)\n",
      "WARNING: Ignoring invalid distribution -tatsmodels (c:\\users\\brandon\\anaconda3\\lib\\site-packages)\n"
     ]
    }
   ],
   "source": [
    "%pip install twilio openai"
   ]
  },
  {
   "cell_type": "code",
   "execution_count": 4,
   "id": "ec30b543",
   "metadata": {},
   "outputs": [],
   "source": [
    "import json\n",
    "\n",
    "# Your Twilio account SID and Auth Token\n",
    "with open('secrets.json', 'r') as f:\n",
    "    twilio_secrets = json.load(f)\n",
    "\n",
    "twilio_account_sid = twilio_secrets.get('twilio_acc_sid')\n",
    "twilio_auth_token = twilio_secrets.get('twilio_auth_token')\n",
    "twilio_number = twilio_secrets.get('twilio_num')\n",
    "openai_key = twilio_secrets.get('openai_key')"
   ]
  },
  {
   "cell_type": "code",
   "execution_count": 34,
   "id": "40757d07",
   "metadata": {},
   "outputs": [
    {
     "name": "stdout",
     "output_type": "stream",
     "text": [
      "Hey there! Just wanted to hop in and remind you how awesome you are for diving into this PhD journey. I know it can get tough sometimes and feel like you're climbing Mount Everest, but trust me, you've got this! Every step you take brings you closer to your goals and that feeling of accomplishment at the finish line will be totally worth it. Embrace the challenges, keep that positive attitude pumping, and remember that you're equipped with an incredible mind that's capable of creating groundbreaking research. So go out there and show the world what you're made of. Keep shining, my friend!\n",
      "Write Aidas a one-paragraph motivational message. Don't start off the message with his name. Keep it informal and upbeat, and maybe don't mention procrastination explicitly.\n"
     ]
    }
   ],
   "source": [
    "import openai\n",
    "import random\n",
    "\n",
    "openai.api_key = openai_key\n",
    "\n",
    "sys_prompt = \"You are a bot created by Brandon that sends messages to his close friend Aidas who is currently in the process of writing his PhD thesis in the field of semiconductors. Aidas is currently struggling with procrastination and finding the right motivation to continue on with their PhD.\"\n",
    "base_prompt = \"Write Aidas a one-paragraph motivational message. Don't start off the message with his name. \"\n",
    "prompt_list = [\n",
    "    base_prompt + \"Keep it informal and upbeat, and maybe don't mention procrastination explicitly.\",\n",
    "    base_prompt + \"Start off the messaging by cracking off a physics based dad joke.\",\n",
    "    base_prompt + \"Provide empathy on how difficult it is to overcome procrastination.\",\n",
    "    base_prompt + \"Whip him into shape.\",\n",
    "    base_prompt + \"Make it sound like you're motivating a famous boxer before his boxing matches.\",\n",
    "    base_prompt + \"Write it as an animal of your choice.\",\n",
    "    base_prompt + \"Take the personality of an old master in a Xianxia novel.\",\n",
    "    base_prompt + \"Imagine you are Phileas the Lumbridge Guide from Runescape when writing it and relate it to the Runescape world. Sign off the message as well.\",\n",
    "    base_prompt + \"Midway through writing the message, you forgot you left a house appliance running that could destroy your house and you need leave, cutting off the message very abruptly.\",\n",
    "    base_prompt + \"Take the personality of a Scottish battle-hardened army veteran with a very heavy accent that has turned to a life of gardening.\",\n",
    "    base_prompt + \"You are literally a cat and you need to make cat noises every so often. The cat noises should be put between tilde characters with no formatting.\",\n",
    "    base_prompt + \"Write it as a poem.\",\n",
    "    base_prompt + \"Sound like a broken robot. Pretend to die at the end of the message.\",\n",
    "    base_prompt + \"Take the personality of a Lithuanian uncle and mix in some Lithuanian words into the predominantly English message. Don't translate the Lithuanian words.\",\n",
    "    base_prompt + \"You are an alien who just landed on earth.\",\n",
    "]\n",
    "\n",
    "# Select prompt\n",
    "idx = random.randint(0, len(prompt_list)-1)\n",
    "prompt = prompt_list[idx]\n",
    "\n",
    "# Generate text using the GPT-3.5 model\n",
    "response = openai.ChatCompletion.create(\n",
    "    model=\"gpt-3.5-turbo\",  # Use the GPT-3.5 engine\n",
    "    messages=[\n",
    "        {\"role\": \"system\", \"content\": sys_prompt},\n",
    "        {\"role\": \"user\", \"content\": prompt},\n",
    "    ]\n",
    ")\n",
    "\n",
    "# Get the generated text from the response\n",
    "generated_text = response.get('choices')[0][\"message\"][\"content\"]\n",
    "\n",
    "# Print the generated text\n",
    "print(generated_text)\n",
    "print(prompt)"
   ]
  },
  {
   "cell_type": "code",
   "execution_count": 29,
   "id": "5466865a-35b8-4383-b900-7504b2dba9c3",
   "metadata": {},
   "outputs": [
    {
     "name": "stdout",
     "output_type": "stream",
     "text": [
      "SM29c255f793875dba2e04b8c26bb1fad0\n"
     ]
    }
   ],
   "source": [
    "from twilio.rest import Client\n",
    "\n",
    "# Initialize the Client\n",
    "client = Client(twilio_account_sid, twilio_auth_token)\n",
    "\n",
    "# Message you want to send\n",
    "message_body = generated_text\n",
    "\n",
    "# Send the SMS\n",
    "destination_phone_number = +447426882437\n",
    "message = client.messages.create(\n",
    "    body=message_body,\n",
    "    from_=twilio_number,\n",
    "    to=destination_phone_number\n",
    ")\n",
    "\n",
    "# Print the message SID to confirm the message was sent\n",
    "print(message.sid)"
   ]
  }
 ],
 "metadata": {
  "kernelspec": {
   "display_name": "Python 3 (ipykernel)",
   "language": "python",
   "name": "python3"
  },
  "language_info": {
   "codemirror_mode": {
    "name": "ipython",
    "version": 3
   },
   "file_extension": ".py",
   "mimetype": "text/x-python",
   "name": "python",
   "nbconvert_exporter": "python",
   "pygments_lexer": "ipython3",
   "version": "3.9.18"
  }
 },
 "nbformat": 4,
 "nbformat_minor": 5
}
